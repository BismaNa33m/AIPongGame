{
  "nbformat": 4,
  "nbformat_minor": 0,
  "metadata": {
    "colab": {
      "provenance": []
    },
    "kernelspec": {
      "name": "python3",
      "display_name": "Python 3"
    },
    "language_info": {
      "name": "python"
    }
  },
  "cells": [
    {
      "cell_type": "code",
      "execution_count": null,
      "metadata": {
        "colab": {
          "base_uri": "https://localhost:8080/"
        },
        "id": "O-SRszhK58Ia",
        "outputId": "c78cb09a-f9c0-4561-fc24-437c1bc58504"
      },
      "outputs": [
        {
          "output_type": "stream",
          "name": "stdout",
          "text": [
            "pygame 2.5.1 (SDL 2.28.2, Python 3.10.12)\n",
            "Hello from the pygame community. https://www.pygame.org/contribute.html\n"
          ]
        }
      ],
      "source": [
        "import pygame\n",
        "from pygame.locals import *\n",
        "import random"
      ]
    },
    {
      "cell_type": "code",
      "source": [
        "# Initialize Pygame\n",
        "pygame.init()"
      ],
      "metadata": {
        "colab": {
          "base_uri": "https://localhost:8080/"
        },
        "id": "XdXMQVaK6IG-",
        "outputId": "1adcc621-1119-4518-9ae6-5ad17952c90c"
      },
      "execution_count": null,
      "outputs": [
        {
          "output_type": "execute_result",
          "data": {
            "text/plain": [
              "(4, 1)"
            ]
          },
          "metadata": {},
          "execution_count": 2
        }
      ]
    },
    {
      "cell_type": "code",
      "source": [
        "# Set up the game window\n",
        "WIDTH, HEIGHT = 640, 480\n",
        "screen = pygame.display.set_mode((WIDTH, HEIGHT))\n",
        "pygame.display.set_caption(\"Pong\")"
      ],
      "metadata": {
        "id": "leSIOaKl6M9M"
      },
      "execution_count": null,
      "outputs": []
    },
    {
      "cell_type": "code",
      "source": [
        "# Set up the colors\n",
        "BLACK = pygame.Color(0, 0, 0)\n",
        "WHITE = pygame.Color(255, 255, 255)"
      ],
      "metadata": {
        "id": "rtsdMyaY6RyL"
      },
      "execution_count": null,
      "outputs": []
    },
    {
      "cell_type": "code",
      "source": [
        "# Set up the initial game state\n",
        "ball_x = WIDTH // 2\n",
        "ball_y = HEIGHT // 2\n",
        "ball_speed_x = 3\n",
        "ball_speed_y = 3\n",
        "\n",
        "paddle_width = 10\n",
        "paddle_height = 60\n",
        "paddle_speed = 5\n",
        "\n",
        "paddle1_x = 10\n",
        "paddle1_y = HEIGHT // 2 - paddle_height // 2"
      ],
      "metadata": {
        "id": "YgKHTbNy6XYy"
      },
      "execution_count": null,
      "outputs": []
    },
    {
      "cell_type": "code",
      "source": [
        "paddle2_x = WIDTH - 10 - paddle_width\n",
        "paddle2_y = HEIGHT // 2 - paddle_height // 2\n",
        "\n",
        "score1 = 0\n",
        "score2 = 0\n",
        "font = pygame.font.Font(None, 36)\n",
        "\n",
        "clock = pygame.time.Clock()\n",
        "running = True\n",
        "\n",
        "while running:\n",
        "    # Handle events\n",
        "    for event in pygame.event.get():\n",
        "        if event.type == QUIT:\n",
        "            running = False\n",
        "\n",
        "    keys = pygame.key.get_pressed()\n",
        "    if keys[K_w] and paddle1_y > 0:\n",
        "        paddle1_y -= paddle_speed\n",
        "    if keys[K_s] and paddle1_y < HEIGHT - paddle_height:\n",
        "        paddle1_y += paddle_speed"
      ],
      "metadata": {
        "id": "_DFCdu3k6eBZ"
      },
      "execution_count": null,
      "outputs": []
    },
    {
      "cell_type": "code",
      "source": [
        "# Update the AI opponent paddle\n",
        "    if paddle2_y < ball_y and paddle2_y < HEIGHT - paddle_height:\n",
        "        paddle2_y += paddle_speed\n",
        "    if paddle2_y > ball_y and paddle2_y > 0:\n",
        "        paddle2_y -= paddle_speed\n",
        "\n",
        "    # Update the game state\n",
        "    ball_x += ball_speed_x\n",
        "    ball_y += ball_speed_y\n",
        "\n",
        "    if ball_y <= 0 or ball_y >= HEIGHT - 10:\n",
        "        ball_speed_y *= -1\n",
        "\n",
        "    if ball_x <= paddle1_x + paddle_width and paddle1_y <= ball_y <= paddle1_y + paddle_height:\n",
        "        ball_speed_x *= -1\n",
        "\n",
        "    if ball_x >= paddle2_x - 10 and paddle2_y <= ball_y <= paddle2_y + paddle_height:\n",
        "        ball_speed_x *= -1\n",
        "\n",
        "    if ball_x < 0:\n",
        "        score2 += 1\n",
        "        ball_x = WIDTH // 2\n",
        "        ball_y = HEIGHT // 2\n",
        "        ball_speed_x = random.choice([3, -3])\n",
        "        ball_speed_y = random.choice([3, -3])\n",
        "\n",
        "    if ball_x > WIDTH:\n",
        "        score1 += 1\n",
        "        ball_x = WIDTH // 2\n",
        "        ball_y = HEIGHT // 2\n",
        "        ball_speed_x = random.choice([3, -3])\n",
        "        ball_speed_y = random.choice([3, -3])"
      ],
      "metadata": {
        "id": "pu1lFF3s6m1k"
      },
      "execution_count": null,
      "outputs": []
    },
    {
      "cell_type": "code",
      "source": [
        " # Render the game state\n",
        "    screen.fill(BLACK)\n",
        "    pygame.draw.rect(screen, WHITE, Rect((paddle1_x, paddle1_y), (paddle_width, paddle_height)))\n",
        "    pygame.draw.rect(screen, WHITE, Rect((paddle2_x, paddle2_y), (paddle_width, paddle_height)))\n",
        "    pygame.draw.ellipse(screen, WHITE, Rect((ball_x, ball_y), (10, 10)))\n",
        "\n",
        "    score_text = font.render(str(score1) + \" - \" + str(score2), True, WHITE)\n",
        "    screen.blit(score_text, ((WIDTH - score_text.get_width()) // 2, 10))\n",
        "\n",
        "    # Refresh the display\n",
        "    pygame.display.flip()\n",
        "    clock.tick(60)\n",
        "\n",
        "# Quit the game\n",
        "pygame.quit()"
      ],
      "metadata": {
        "id": "f_9aGRRB6vxh"
      },
      "execution_count": null,
      "outputs": []
    }
  ]
}